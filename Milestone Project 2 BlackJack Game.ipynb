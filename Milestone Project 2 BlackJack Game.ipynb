{
 "cells": [
  {
   "cell_type": "code",
   "execution_count": 1,
   "metadata": {},
   "outputs": [],
   "source": [
    "import random\n",
    "\n",
    "suites = ('Hearts','Diamonds','Spades','Clubs')\n",
    "ranks = ('Two','Three','Four','Five','Six','Seven','Eight','Nine','Ten','Jack','Queen','King','Ace')\n",
    "values = {'Two':2,'Three':3,'Four':4,'Five':5,'Six':6,'Seven':7,'Eight':8,'Nine':9,'Ten':10,'Jack':10,\n",
    "          'Queen':10,'King':10,'Ace':11}\n",
    "\n",
    "playing = True\n"
   ]
  },
  {
   "cell_type": "code",
   "execution_count": 2,
   "metadata": {},
   "outputs": [],
   "source": [
    "class Card():\n",
    "    \n",
    "    def __init__(self,suites,ranks):\n",
    "        self.suites = suites\n",
    "        self.ranks = ranks\n",
    "    \n",
    "    def __str__(self):\n",
    "        return self.ranks + \" of \" + self.suites"
   ]
  },
  {
   "cell_type": "code",
   "execution_count": 3,
   "metadata": {},
   "outputs": [],
   "source": [
    "class Deck():\n",
    "    \n",
    "    def __init__(self):\n",
    "        self.deck = []\n",
    "        for suit in suites:\n",
    "            for rank in ranks:\n",
    "                self.deck.append(Card(suit,rank))\n",
    "                \n",
    "    def __str__(self):\n",
    "        deck_composition = ''\n",
    "        for card in self.deck:\n",
    "            deck_composition += '\\n' + card.__str__()\n",
    "        return \"The deck has: \"+deck_composition\n",
    "    \n",
    "    def shuffle(self):\n",
    "        random.shuffle(self.deck)\n",
    "        \n",
    "\n",
    "    def deal(self):\n",
    "        single_card = self.deck.pop()\n",
    "        return single_card\n"
   ]
  },
  {
   "cell_type": "code",
   "execution_count": 4,
   "metadata": {},
   "outputs": [],
   "source": [
    "class Hand:\n",
    "    def __init__(self):\n",
    "        self.cards = []\n",
    "        self.value = 0\n",
    "        self.aces = 0\n",
    "        \n",
    "    def add_card(self,card):\n",
    "        # from Deck.deal() --> single Card(suit,rank)\n",
    "        self.cards.append(card)\n",
    "        self.value += values[card.ranks]\n",
    "        \n",
    "        #track aces\n",
    "        if(card.ranks == 'Ace'):\n",
    "            self.aces += 1\n",
    "    \n",
    "    def adjust_for_ace(self):\n",
    "        #IF TOTAL VALUE > 21 AND I STILL HAVE AN ACE  (SELF.ACES > 0)\n",
    "        while(self.value > 21 and self.aces):\n",
    "            self.value -= 10\n",
    "            self.aces -=1\n",
    "        "
   ]
  },
  {
   "cell_type": "code",
   "execution_count": 5,
   "metadata": {},
   "outputs": [
    {
     "name": "stdout",
     "output_type": "stream",
     "text": [
      "Jack of Diamonds\n",
      "10\n"
     ]
    }
   ],
   "source": [
    "test_deck = Deck()\n",
    "test_deck.shuffle()\n",
    "\n",
    "\n",
    "#Player\n",
    "test_player = Hand()\n",
    "pulled_card = test_deck.deal()\n",
    "print(pulled_card)\n",
    "test_player.add_card(pulled_card)\n",
    "print(test_player.value)"
   ]
  },
  {
   "cell_type": "code",
   "execution_count": 6,
   "metadata": {},
   "outputs": [],
   "source": [
    "class Chips:\n",
    "    def __init__(self,total=100):\n",
    "        self.total = total\n",
    "        self.bet = 0\n",
    "    \n",
    "    def win_bet(self):\n",
    "        self.total += self.bet\n",
    "\n",
    "    def lose_bet(self):\n",
    "        self.total -= self.bet"
   ]
  },
  {
   "cell_type": "code",
   "execution_count": 7,
   "metadata": {},
   "outputs": [],
   "source": [
    "def take_bet(chips):\n",
    "    while True:\n",
    "        try:\n",
    "            chips.bet = int(input(\"How many chips would you like to bet\"))\n",
    "        except:\n",
    "            print(\"Please provide an integer\")\n",
    "        else:\n",
    "            if chips.bet > chips.total:\n",
    "                print(\"Sorry you do not have enough chips! You have: {}\".format(chips.total))\n",
    "            else:\n",
    "                break"
   ]
  },
  {
   "cell_type": "code",
   "execution_count": 8,
   "metadata": {},
   "outputs": [],
   "source": [
    "def hit(deck,hand):\n",
    "    single_card = deck.deal()\n",
    "    hand.add_card(single_card)\n",
    "    hand.adjust_for_ace()"
   ]
  },
  {
   "cell_type": "code",
   "execution_count": 9,
   "metadata": {},
   "outputs": [],
   "source": [
    "def hit_or_stand(deck,hand):\n",
    "    global playing\n",
    "    \n",
    "    while True:\n",
    "        give_hit = input(\"¿Do you want to hit?\")\n",
    "        if give_hit.lower() == 'yes':\n",
    "            hit(deck,hand)\n",
    "        elif give_hit.lower() == 'no':\n",
    "            playing = False\n",
    "        else:\n",
    "            print(\"Invalid command. Try again!\")\n",
    "            continue\n",
    "        break"
   ]
  },
  {
   "cell_type": "code",
   "execution_count": 10,
   "metadata": {},
   "outputs": [],
   "source": [
    "def player_busts(player,dealer,chips):\n",
    "    print(\"BUST PLAYER!\")\n",
    "    chips.lose_bet()"
   ]
  },
  {
   "cell_type": "code",
   "execution_count": 11,
   "metadata": {},
   "outputs": [],
   "source": [
    "def push(player,dealer):\n",
    "    print(\"Dealer and player TIE! PUSH\")"
   ]
  },
  {
   "cell_type": "code",
   "execution_count": 12,
   "metadata": {},
   "outputs": [],
   "source": [
    "def player_wins(player,dealer,chips):\n",
    "    print(\"PLAYER WINS! DEALER BUSTED!\")\n",
    "    chips.win_bet()"
   ]
  },
  {
   "cell_type": "code",
   "execution_count": 13,
   "metadata": {},
   "outputs": [],
   "source": [
    "def dealer_busts(player,dealer,chips):\n",
    "    print(\"BUST DEALER\")\n",
    "    chips.win_bet()"
   ]
  },
  {
   "cell_type": "code",
   "execution_count": 14,
   "metadata": {},
   "outputs": [],
   "source": [
    "def dealer_wins(player,dealer,chips):\n",
    "    print(\"DEALER WINS\")\n",
    "    chips.lose_bet()"
   ]
  },
  {
   "cell_type": "code",
   "execution_count": 15,
   "metadata": {},
   "outputs": [],
   "source": [
    "def show_some(player,dealer):\n",
    "    print(\"DEALERS HAND\")\n",
    "    print(\"One card hidden\")\n",
    "    print(dealer.cards[1])\n",
    "    print(\"\\n\")\n",
    "    print(\"PLAYER HAND\")\n",
    "    for card in player.cards:\n",
    "        print(card)\n",
    "        \n",
    "def show_all(player,dealer):\n",
    "    print(\"DEALERS HAND\")\n",
    "    for card in dealer.cards:\n",
    "        print(card)\n",
    "    print(\"\\n\")\n",
    "    print(\"PLAYER HAND\")\n",
    "    for card in player.cards:\n",
    "        print(card)\n",
    "    "
   ]
  },
  {
   "cell_type": "code",
   "execution_count": null,
   "metadata": {},
   "outputs": [
    {
     "name": "stdout",
     "output_type": "stream",
     "text": [
      "Welcome to BlackJack\n",
      "How many chips would you like to bet100\n",
      "DEALERS HAND\n",
      "One card hidden\n",
      "Nine of Spades\n",
      "\n",
      "\n",
      "PLAYER HAND\n",
      "Ten of Clubs\n",
      "Ace of Diamonds\n",
      "¿Do you want to hit?no\n",
      "DEALERS HAND\n",
      "One card hidden\n",
      "Nine of Spades\n",
      "\n",
      "\n",
      "PLAYER HAND\n",
      "Ten of Clubs\n",
      "Ace of Diamonds\n",
      "DEALERS HAND\n",
      "Queen of Diamonds\n",
      "Nine of Spades\n",
      "\n",
      "\n",
      "PLAYER HAND\n",
      "Ten of Clubs\n",
      "Ace of Diamonds\n",
      "PLAYER WINS! DEALER BUSTED!\n",
      "200\n",
      "Do you want to play again?yes\n",
      "Welcome to BlackJack\n",
      "How many chips would you like to bet50\n",
      "DEALERS HAND\n",
      "One card hidden\n",
      "Nine of Spades\n",
      "\n",
      "\n",
      "PLAYER HAND\n",
      "Jack of Spades\n",
      "Ten of Clubs\n",
      "¿Do you want to hit?yes\n",
      "DEALERS HAND\n",
      "One card hidden\n",
      "Nine of Spades\n",
      "\n",
      "\n",
      "PLAYER HAND\n",
      "Jack of Spades\n",
      "Ten of Clubs\n",
      "Jack of Hearts\n",
      "BUST PLAYER!\n",
      "50\n"
     ]
    }
   ],
   "source": [
    "## LOGIC\n",
    "\n",
    "while True:\n",
    "    \n",
    "    print(\"Welcome to BlackJack\")\n",
    "    playing = True\n",
    "    \n",
    "    #Create & shuffle the deck, deal two cards to each player\n",
    "    deck = Deck()\n",
    "    deck.shuffle()\n",
    "    \n",
    "    hand_player = Hand()\n",
    "    hand_dealer = Hand()\n",
    "    \n",
    "    hand_player.add_card(deck.deal())\n",
    "    hand_player.add_card(deck.deal())\n",
    "    \n",
    "    hand_dealer.add_card(deck.deal())\n",
    "    hand_dealer.add_card(deck.deal())\n",
    "    \n",
    "    #Set up the players chips\n",
    "    player_chips = Chips()\n",
    "    \n",
    "    #Prompt the Player for their bet\n",
    "    take_bet(player_chips)\n",
    "    \n",
    "    #Show cards (keep one dealer card hidden)\n",
    "    show_some(hand_player,hand_dealer)\n",
    "    \n",
    "    while playing:\n",
    "        \n",
    "        #Prompt for Player to Hit or Stand\n",
    "        hit_or_stand(deck,hand_player)\n",
    "        \n",
    "        #Show cards (Keep one dealer card hidden)\n",
    "        show_some(hand_player,hand_dealer)\n",
    "        \n",
    "        #If player's hand > 21, run player_bursts and break out the loop\n",
    "        if hand_player.value > 21:\n",
    "            player_busts(hand_player,hand_dealer,player_chips)\n",
    "            break\n",
    "        \n",
    "    #If player hasn't busted, play dealer's hand until Dealer reaches 17\n",
    "    if hand_player.value <= 21:\n",
    "        while hand_dealer.value < 17:\n",
    "            hit(deck,hand_dealer)\n",
    "        \n",
    "    #Show all cards\n",
    "        show_all(hand_player,hand_dealer)\n",
    "        \n",
    "        # Run diffent winning scenarios\n",
    "        if hand_dealer.value > 21:\n",
    "            dealer_busts(hand_player,hand_dealer,player_chips)\n",
    "        elif hand_dealer.value > hand_player.value:\n",
    "            dealer_wins(hand_player,hand_dealer,player_chips)\n",
    "        elif hand_dealer.value < hand_player.value:\n",
    "            player_wins(hand_player,hand_dealer,player_chips)\n",
    "        else:\n",
    "            push(hand_player,hand_dealer)\n",
    "        \n",
    "    #Inform Player of their chips total\n",
    "    print(player_chips.total)\n",
    "    \n",
    "    #Ask to play again\n",
    "    play_again = input(\"Do you want to play again?\")\n",
    "    if(play_again == 'yes'):\n",
    "        continue\n",
    "    else:\n",
    "        break\n",
    "    "
   ]
  },
  {
   "cell_type": "code",
   "execution_count": null,
   "metadata": {},
   "outputs": [],
   "source": []
  },
  {
   "cell_type": "code",
   "execution_count": null,
   "metadata": {},
   "outputs": [],
   "source": []
  }
 ],
 "metadata": {
  "kernelspec": {
   "display_name": "Python 3",
   "language": "python",
   "name": "python3"
  },
  "language_info": {
   "codemirror_mode": {
    "name": "ipython",
    "version": 3
   },
   "file_extension": ".py",
   "mimetype": "text/x-python",
   "name": "python",
   "nbconvert_exporter": "python",
   "pygments_lexer": "ipython3",
   "version": "3.7.4"
  }
 },
 "nbformat": 4,
 "nbformat_minor": 2
}
